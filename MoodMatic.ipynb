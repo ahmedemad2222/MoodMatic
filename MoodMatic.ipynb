{
  "nbformat": 4,
  "nbformat_minor": 0,
  "metadata": {
    "colab": {
      "provenance": []
    },
    "kernelspec": {
      "name": "python3",
      "display_name": "Python 3"
    },
    "language_info": {
      "name": "python"
    }
  },
  "cells": [
    {
      "cell_type": "code",
      "source": [
        "from google.colab import drive\n",
        "drive.mount('/content/drive')"
      ],
      "metadata": {
        "colab": {
          "base_uri": "https://localhost:8080/"
        },
        "id": "rrjpsGEHTQWd",
        "outputId": "21a42d38-9c70-439a-c2a5-45d229c87159"
      },
      "execution_count": 2,
      "outputs": [
        {
          "output_type": "stream",
          "name": "stdout",
          "text": [
            "Drive already mounted at /content/drive; to attempt to forcibly remount, call drive.mount(\"/content/drive\", force_remount=True).\n"
          ]
        }
      ]
    },
    {
      "cell_type": "code",
      "source": [
        "!unzip /content/drive/MyDrive/archive.zip\n"
      ],
      "metadata": {
        "colab": {
          "base_uri": "https://localhost:8080/"
        },
        "id": "WTjNi8y-TlFC",
        "outputId": "9aa545d2-4687-4482-fcf9-46edd4704f22"
      },
      "execution_count": null,
      "outputs": [
        {
          "output_type": "stream",
          "name": "stdout",
          "text": [
            "Archive:  /content/drive/MyDrive/archive.zip\n",
            "  inflating: Movies_Reviews_modified_version1.csv  "
          ]
        }
      ]
    },
    {
      "cell_type": "code",
      "source": [
        "import pandas as pd\n",
        "\n",
        "# Load the dataset\n",
        "file_path = '/content/drive/MyDrive/Merged_Movies_Emotions.csv'\n",
        "data = pd.read_csv(file_path)\n",
        "\n",
        "print(data.head())\n",
        "\n",
        "# Display the column names to understand the structure of the data\n",
        "print(data.columns)\n"
      ],
      "metadata": {
        "colab": {
          "base_uri": "https://localhost:8080/"
        },
        "id": "31UmMlXoUKRF",
        "outputId": "3545885b-3fd5-42d0-a938-a6769e58c715"
      },
      "execution_count": 3,
      "outputs": [
        {
          "output_type": "stream",
          "name": "stdout",
          "text": [
            "   Index  Rating                                            Reviews  \\\n",
            "0      0     6.4  This film, as well as the reaction to it, is a...   \n",
            "1      1     7.3  I'm a big fan of all the planet of the apes, a...   \n",
            "2      2     5.5  Pretty much the worst criticism you can lay on...   \n",
            "3      3     7.3  Just got out of the Austin premier at SXSW and...   \n",
            "4      4     7.7  This is a tough one. I liked the concept and t...   \n",
            "\n",
            "                          Movie_Name                      Genres  \\\n",
            "0                    The Idea of You      Comedy, Drama, Romance   \n",
            "1  Kingdom of the Planet of the Apes   Action, Adventure, Sci-Fi   \n",
            "2                          Unfrosted  Biography, Comedy, History   \n",
            "3                       The Fall Guy       Action, Comedy, Drama   \n",
            "4                        Challengers       Drama, Romance, Sport   \n",
            "\n",
            "                                         Description   Emotion  \n",
            "0  Solène, a 40-year-old single mom, begins an un...       joy  \n",
            "1  Many years after the reign of Caesar, a young ...      fear  \n",
            "2  In 1963 Michigan, business rivals Kellogg's an...  surprise  \n",
            "3  A down-and-out stuntman must find the missing ...   sadness  \n",
            "4  Tashi, a former tennis prodigy turned coach, t...   sadness  \n",
            "Index(['Index', 'Rating', 'Reviews', 'Movie_Name', 'Genres', 'Description',\n",
            "       'Emotion'],\n",
            "      dtype='object')\n"
          ]
        }
      ]
    },
    {
      "cell_type": "markdown",
      "source": [
        "# **Data Cleaning**"
      ],
      "metadata": {
        "id": "Ihj0EUdbWP2O"
      }
    },
    {
      "cell_type": "code",
      "source": [
        "# Check for missing values\n",
        "print(data.isnull().sum())\n",
        "\n",
        "# Drop rows with missing values or fill them with appropriate values\n",
        "data = data.dropna()\n",
        "\n",
        "# Display the unique emotions to understand the emotion labels\n",
        "print(data['Emotion'].unique())\n"
      ],
      "metadata": {
        "colab": {
          "base_uri": "https://localhost:8080/"
        },
        "id": "TfC1W0aNVOk7",
        "outputId": "00fa56fb-17f4-4d4b-83a9-4ce7a85a9bb6"
      },
      "execution_count": 4,
      "outputs": [
        {
          "output_type": "stream",
          "name": "stdout",
          "text": [
            "Index          0\n",
            "Rating         0\n",
            "Reviews        0\n",
            "Movie_Name     0\n",
            "Genres         0\n",
            "Description    0\n",
            "Emotion        0\n",
            "dtype: int64\n",
            "['joy' 'fear' 'surprise' 'sadness' 'anger' 'neutral' 'disgust'\n",
            " 'anticipation' 'optimism']\n"
          ]
        }
      ]
    },
    {
      "cell_type": "markdown",
      "source": [
        "# **Feature Engineering**"
      ],
      "metadata": {
        "id": "aY0OaYXaWVuk"
      }
    },
    {
      "cell_type": "code",
      "source": [
        "from sklearn.feature_extraction.text import TfidfVectorizer\n",
        "\n",
        "# Combine relevant text fields into a single feature\n",
        "data['text'] = data['Reviews'] + ' ' + data['Description']\n",
        "\n",
        "# Initialize the TF-IDF vectorizer\n",
        "tfidf = TfidfVectorizer(max_features=5000)\n",
        "\n",
        "# Fit and transform the text data into TF-IDF features\n",
        "X = tfidf.fit_transform(data['text'])\n",
        "\n",
        "# Encode the emotions as numerical labels\n",
        "from sklearn.preprocessing import LabelEncoder\n",
        "\n",
        "label_encoder = LabelEncoder()\n",
        "y = label_encoder.fit_transform(data['Emotion'])\n"
      ],
      "metadata": {
        "id": "Y6G_iTCmWVft"
      },
      "execution_count": 5,
      "outputs": []
    },
    {
      "cell_type": "markdown",
      "source": [
        "# **Model Training**"
      ],
      "metadata": {
        "id": "xZ-7wphLWZ8f"
      }
    },
    {
      "cell_type": "code",
      "source": [
        "from sklearn.model_selection import train_test_split\n",
        "from sklearn.ensemble import RandomForestClassifier\n",
        "from sklearn.metrics import accuracy_score\n",
        "\n",
        "# Split the data into training and testing sets\n",
        "X_train, X_test, y_train, y_test = train_test_split(X, y, test_size=0.2, random_state=42)\n",
        "\n",
        "# Initialize and train the RandomForest classifier\n",
        "model = RandomForestClassifier()\n",
        "model.fit(X_train, y_train)\n",
        "\n",
        "# Predict on the test set\n",
        "y_pred = model.predict(X_test)\n",
        "\n",
        "# Evaluate the model\n",
        "accuracy = accuracy_score(y_test, y_pred)\n",
        "print(f'Model Accuracy: {accuracy}')\n"
      ],
      "metadata": {
        "colab": {
          "base_uri": "https://localhost:8080/",
          "height": 372
        },
        "id": "BxxhlgC6WZyT",
        "outputId": "a3d68946-76b6-4939-f9b6-ca6277270c55",
        "collapsed": true
      },
      "execution_count": 5,
      "outputs": [
        {
          "output_type": "error",
          "ename": "KeyboardInterrupt",
          "evalue": "",
          "traceback": [
            "\u001b[0;31m---------------------------------------------------------------------------\u001b[0m",
            "\u001b[0;31mKeyboardInterrupt\u001b[0m                         Traceback (most recent call last)",
            "\u001b[0;32m<ipython-input-5-cbc64ceb6bd1>\u001b[0m in \u001b[0;36m<cell line: 10>\u001b[0;34m()\u001b[0m\n\u001b[1;32m      8\u001b[0m \u001b[0;31m# Initialize and train the RandomForest classifier\u001b[0m\u001b[0;34m\u001b[0m\u001b[0;34m\u001b[0m\u001b[0m\n\u001b[1;32m      9\u001b[0m \u001b[0mmodel\u001b[0m \u001b[0;34m=\u001b[0m \u001b[0mRandomForestClassifier\u001b[0m\u001b[0;34m(\u001b[0m\u001b[0;34m)\u001b[0m\u001b[0;34m\u001b[0m\u001b[0;34m\u001b[0m\u001b[0m\n\u001b[0;32m---> 10\u001b[0;31m \u001b[0mmodel\u001b[0m\u001b[0;34m.\u001b[0m\u001b[0mfit\u001b[0m\u001b[0;34m(\u001b[0m\u001b[0mX_train\u001b[0m\u001b[0;34m,\u001b[0m \u001b[0my_train\u001b[0m\u001b[0;34m)\u001b[0m\u001b[0;34m\u001b[0m\u001b[0;34m\u001b[0m\u001b[0m\n\u001b[0m\u001b[1;32m     11\u001b[0m \u001b[0;34m\u001b[0m\u001b[0m\n\u001b[1;32m     12\u001b[0m \u001b[0;31m# Predict on the test set\u001b[0m\u001b[0;34m\u001b[0m\u001b[0;34m\u001b[0m\u001b[0m\n",
            "\u001b[0;32m/usr/local/lib/python3.10/dist-packages/sklearn/ensemble/_forest.py\u001b[0m in \u001b[0;36mfit\u001b[0;34m(self, X, y, sample_weight)\u001b[0m\n\u001b[1;32m    471\u001b[0m             \u001b[0;31m# parallel_backend contexts set at a higher level,\u001b[0m\u001b[0;34m\u001b[0m\u001b[0;34m\u001b[0m\u001b[0m\n\u001b[1;32m    472\u001b[0m             \u001b[0;31m# since correctness does not rely on using threads.\u001b[0m\u001b[0;34m\u001b[0m\u001b[0;34m\u001b[0m\u001b[0m\n\u001b[0;32m--> 473\u001b[0;31m             trees = Parallel(\n\u001b[0m\u001b[1;32m    474\u001b[0m                 \u001b[0mn_jobs\u001b[0m\u001b[0;34m=\u001b[0m\u001b[0mself\u001b[0m\u001b[0;34m.\u001b[0m\u001b[0mn_jobs\u001b[0m\u001b[0;34m,\u001b[0m\u001b[0;34m\u001b[0m\u001b[0;34m\u001b[0m\u001b[0m\n\u001b[1;32m    475\u001b[0m                 \u001b[0mverbose\u001b[0m\u001b[0;34m=\u001b[0m\u001b[0mself\u001b[0m\u001b[0;34m.\u001b[0m\u001b[0mverbose\u001b[0m\u001b[0;34m,\u001b[0m\u001b[0;34m\u001b[0m\u001b[0;34m\u001b[0m\u001b[0m\n",
            "\u001b[0;32m/usr/local/lib/python3.10/dist-packages/sklearn/utils/parallel.py\u001b[0m in \u001b[0;36m__call__\u001b[0;34m(self, iterable)\u001b[0m\n\u001b[1;32m     61\u001b[0m             \u001b[0;32mfor\u001b[0m \u001b[0mdelayed_func\u001b[0m\u001b[0;34m,\u001b[0m \u001b[0margs\u001b[0m\u001b[0;34m,\u001b[0m \u001b[0mkwargs\u001b[0m \u001b[0;32min\u001b[0m \u001b[0miterable\u001b[0m\u001b[0;34m\u001b[0m\u001b[0;34m\u001b[0m\u001b[0m\n\u001b[1;32m     62\u001b[0m         )\n\u001b[0;32m---> 63\u001b[0;31m         \u001b[0;32mreturn\u001b[0m \u001b[0msuper\u001b[0m\u001b[0;34m(\u001b[0m\u001b[0;34m)\u001b[0m\u001b[0;34m.\u001b[0m\u001b[0m__call__\u001b[0m\u001b[0;34m(\u001b[0m\u001b[0miterable_with_config\u001b[0m\u001b[0;34m)\u001b[0m\u001b[0;34m\u001b[0m\u001b[0;34m\u001b[0m\u001b[0m\n\u001b[0m\u001b[1;32m     64\u001b[0m \u001b[0;34m\u001b[0m\u001b[0m\n\u001b[1;32m     65\u001b[0m \u001b[0;34m\u001b[0m\u001b[0m\n",
            "\u001b[0;32m/usr/local/lib/python3.10/dist-packages/joblib/parallel.py\u001b[0m in \u001b[0;36m__call__\u001b[0;34m(self, iterable)\u001b[0m\n\u001b[1;32m   1916\u001b[0m             \u001b[0moutput\u001b[0m \u001b[0;34m=\u001b[0m \u001b[0mself\u001b[0m\u001b[0;34m.\u001b[0m\u001b[0m_get_sequential_output\u001b[0m\u001b[0;34m(\u001b[0m\u001b[0miterable\u001b[0m\u001b[0;34m)\u001b[0m\u001b[0;34m\u001b[0m\u001b[0;34m\u001b[0m\u001b[0m\n\u001b[1;32m   1917\u001b[0m             \u001b[0mnext\u001b[0m\u001b[0;34m(\u001b[0m\u001b[0moutput\u001b[0m\u001b[0;34m)\u001b[0m\u001b[0;34m\u001b[0m\u001b[0;34m\u001b[0m\u001b[0m\n\u001b[0;32m-> 1918\u001b[0;31m             \u001b[0;32mreturn\u001b[0m \u001b[0moutput\u001b[0m \u001b[0;32mif\u001b[0m \u001b[0mself\u001b[0m\u001b[0;34m.\u001b[0m\u001b[0mreturn_generator\u001b[0m \u001b[0;32melse\u001b[0m \u001b[0mlist\u001b[0m\u001b[0;34m(\u001b[0m\u001b[0moutput\u001b[0m\u001b[0;34m)\u001b[0m\u001b[0;34m\u001b[0m\u001b[0;34m\u001b[0m\u001b[0m\n\u001b[0m\u001b[1;32m   1919\u001b[0m \u001b[0;34m\u001b[0m\u001b[0m\n\u001b[1;32m   1920\u001b[0m         \u001b[0;31m# Let's create an ID that uniquely identifies the current call. If the\u001b[0m\u001b[0;34m\u001b[0m\u001b[0;34m\u001b[0m\u001b[0m\n",
            "\u001b[0;32m/usr/local/lib/python3.10/dist-packages/joblib/parallel.py\u001b[0m in \u001b[0;36m_get_sequential_output\u001b[0;34m(self, iterable)\u001b[0m\n\u001b[1;32m   1845\u001b[0m                 \u001b[0mself\u001b[0m\u001b[0;34m.\u001b[0m\u001b[0mn_dispatched_batches\u001b[0m \u001b[0;34m+=\u001b[0m \u001b[0;36m1\u001b[0m\u001b[0;34m\u001b[0m\u001b[0;34m\u001b[0m\u001b[0m\n\u001b[1;32m   1846\u001b[0m                 \u001b[0mself\u001b[0m\u001b[0;34m.\u001b[0m\u001b[0mn_dispatched_tasks\u001b[0m \u001b[0;34m+=\u001b[0m \u001b[0;36m1\u001b[0m\u001b[0;34m\u001b[0m\u001b[0;34m\u001b[0m\u001b[0m\n\u001b[0;32m-> 1847\u001b[0;31m                 \u001b[0mres\u001b[0m \u001b[0;34m=\u001b[0m \u001b[0mfunc\u001b[0m\u001b[0;34m(\u001b[0m\u001b[0;34m*\u001b[0m\u001b[0margs\u001b[0m\u001b[0;34m,\u001b[0m \u001b[0;34m**\u001b[0m\u001b[0mkwargs\u001b[0m\u001b[0;34m)\u001b[0m\u001b[0;34m\u001b[0m\u001b[0;34m\u001b[0m\u001b[0m\n\u001b[0m\u001b[1;32m   1848\u001b[0m                 \u001b[0mself\u001b[0m\u001b[0;34m.\u001b[0m\u001b[0mn_completed_tasks\u001b[0m \u001b[0;34m+=\u001b[0m \u001b[0;36m1\u001b[0m\u001b[0;34m\u001b[0m\u001b[0;34m\u001b[0m\u001b[0m\n\u001b[1;32m   1849\u001b[0m                 \u001b[0mself\u001b[0m\u001b[0;34m.\u001b[0m\u001b[0mprint_progress\u001b[0m\u001b[0;34m(\u001b[0m\u001b[0;34m)\u001b[0m\u001b[0;34m\u001b[0m\u001b[0;34m\u001b[0m\u001b[0m\n",
            "\u001b[0;32m/usr/local/lib/python3.10/dist-packages/sklearn/utils/parallel.py\u001b[0m in \u001b[0;36m__call__\u001b[0;34m(self, *args, **kwargs)\u001b[0m\n\u001b[1;32m    121\u001b[0m             \u001b[0mconfig\u001b[0m \u001b[0;34m=\u001b[0m \u001b[0;34m{\u001b[0m\u001b[0;34m}\u001b[0m\u001b[0;34m\u001b[0m\u001b[0;34m\u001b[0m\u001b[0m\n\u001b[1;32m    122\u001b[0m         \u001b[0;32mwith\u001b[0m \u001b[0mconfig_context\u001b[0m\u001b[0;34m(\u001b[0m\u001b[0;34m**\u001b[0m\u001b[0mconfig\u001b[0m\u001b[0;34m)\u001b[0m\u001b[0;34m:\u001b[0m\u001b[0;34m\u001b[0m\u001b[0;34m\u001b[0m\u001b[0m\n\u001b[0;32m--> 123\u001b[0;31m             \u001b[0;32mreturn\u001b[0m \u001b[0mself\u001b[0m\u001b[0;34m.\u001b[0m\u001b[0mfunction\u001b[0m\u001b[0;34m(\u001b[0m\u001b[0;34m*\u001b[0m\u001b[0margs\u001b[0m\u001b[0;34m,\u001b[0m \u001b[0;34m**\u001b[0m\u001b[0mkwargs\u001b[0m\u001b[0;34m)\u001b[0m\u001b[0;34m\u001b[0m\u001b[0;34m\u001b[0m\u001b[0m\n\u001b[0m",
            "\u001b[0;32m/usr/local/lib/python3.10/dist-packages/sklearn/ensemble/_forest.py\u001b[0m in \u001b[0;36m_parallel_build_trees\u001b[0;34m(tree, bootstrap, X, y, sample_weight, tree_idx, n_trees, verbose, class_weight, n_samples_bootstrap)\u001b[0m\n\u001b[1;32m    182\u001b[0m             \u001b[0mcurr_sample_weight\u001b[0m \u001b[0;34m*=\u001b[0m \u001b[0mcompute_sample_weight\u001b[0m\u001b[0;34m(\u001b[0m\u001b[0;34m\"balanced\"\u001b[0m\u001b[0;34m,\u001b[0m \u001b[0my\u001b[0m\u001b[0;34m,\u001b[0m \u001b[0mindices\u001b[0m\u001b[0;34m=\u001b[0m\u001b[0mindices\u001b[0m\u001b[0;34m)\u001b[0m\u001b[0;34m\u001b[0m\u001b[0;34m\u001b[0m\u001b[0m\n\u001b[1;32m    183\u001b[0m \u001b[0;34m\u001b[0m\u001b[0m\n\u001b[0;32m--> 184\u001b[0;31m         \u001b[0mtree\u001b[0m\u001b[0;34m.\u001b[0m\u001b[0mfit\u001b[0m\u001b[0;34m(\u001b[0m\u001b[0mX\u001b[0m\u001b[0;34m,\u001b[0m \u001b[0my\u001b[0m\u001b[0;34m,\u001b[0m \u001b[0msample_weight\u001b[0m\u001b[0;34m=\u001b[0m\u001b[0mcurr_sample_weight\u001b[0m\u001b[0;34m,\u001b[0m \u001b[0mcheck_input\u001b[0m\u001b[0;34m=\u001b[0m\u001b[0;32mFalse\u001b[0m\u001b[0;34m)\u001b[0m\u001b[0;34m\u001b[0m\u001b[0;34m\u001b[0m\u001b[0m\n\u001b[0m\u001b[1;32m    185\u001b[0m     \u001b[0;32melse\u001b[0m\u001b[0;34m:\u001b[0m\u001b[0;34m\u001b[0m\u001b[0;34m\u001b[0m\u001b[0m\n\u001b[1;32m    186\u001b[0m         \u001b[0mtree\u001b[0m\u001b[0;34m.\u001b[0m\u001b[0mfit\u001b[0m\u001b[0;34m(\u001b[0m\u001b[0mX\u001b[0m\u001b[0;34m,\u001b[0m \u001b[0my\u001b[0m\u001b[0;34m,\u001b[0m \u001b[0msample_weight\u001b[0m\u001b[0;34m=\u001b[0m\u001b[0msample_weight\u001b[0m\u001b[0;34m,\u001b[0m \u001b[0mcheck_input\u001b[0m\u001b[0;34m=\u001b[0m\u001b[0;32mFalse\u001b[0m\u001b[0;34m)\u001b[0m\u001b[0;34m\u001b[0m\u001b[0;34m\u001b[0m\u001b[0m\n",
            "\u001b[0;32m/usr/local/lib/python3.10/dist-packages/sklearn/tree/_classes.py\u001b[0m in \u001b[0;36mfit\u001b[0;34m(self, X, y, sample_weight, check_input)\u001b[0m\n\u001b[1;32m    887\u001b[0m         \"\"\"\n\u001b[1;32m    888\u001b[0m \u001b[0;34m\u001b[0m\u001b[0m\n\u001b[0;32m--> 889\u001b[0;31m         super().fit(\n\u001b[0m\u001b[1;32m    890\u001b[0m             \u001b[0mX\u001b[0m\u001b[0;34m,\u001b[0m\u001b[0;34m\u001b[0m\u001b[0;34m\u001b[0m\u001b[0m\n\u001b[1;32m    891\u001b[0m             \u001b[0my\u001b[0m\u001b[0;34m,\u001b[0m\u001b[0;34m\u001b[0m\u001b[0;34m\u001b[0m\u001b[0m\n",
            "\u001b[0;32m/usr/local/lib/python3.10/dist-packages/sklearn/tree/_classes.py\u001b[0m in \u001b[0;36mfit\u001b[0;34m(self, X, y, sample_weight, check_input)\u001b[0m\n\u001b[1;32m    377\u001b[0m             )\n\u001b[1;32m    378\u001b[0m \u001b[0;34m\u001b[0m\u001b[0m\n\u001b[0;32m--> 379\u001b[0;31m         \u001b[0mbuilder\u001b[0m\u001b[0;34m.\u001b[0m\u001b[0mbuild\u001b[0m\u001b[0;34m(\u001b[0m\u001b[0mself\u001b[0m\u001b[0;34m.\u001b[0m\u001b[0mtree_\u001b[0m\u001b[0;34m,\u001b[0m \u001b[0mX\u001b[0m\u001b[0;34m,\u001b[0m \u001b[0my\u001b[0m\u001b[0;34m,\u001b[0m \u001b[0msample_weight\u001b[0m\u001b[0;34m)\u001b[0m\u001b[0;34m\u001b[0m\u001b[0;34m\u001b[0m\u001b[0m\n\u001b[0m\u001b[1;32m    380\u001b[0m \u001b[0;34m\u001b[0m\u001b[0m\n\u001b[1;32m    381\u001b[0m         \u001b[0;32mif\u001b[0m \u001b[0mself\u001b[0m\u001b[0;34m.\u001b[0m\u001b[0mn_outputs_\u001b[0m \u001b[0;34m==\u001b[0m \u001b[0;36m1\u001b[0m \u001b[0;32mand\u001b[0m \u001b[0mis_classifier\u001b[0m\u001b[0;34m(\u001b[0m\u001b[0mself\u001b[0m\u001b[0;34m)\u001b[0m\u001b[0;34m:\u001b[0m\u001b[0;34m\u001b[0m\u001b[0;34m\u001b[0m\u001b[0m\n",
            "\u001b[0;31mKeyboardInterrupt\u001b[0m: "
          ]
        }
      ]
    },
    {
      "cell_type": "code",
      "source": [
        "from sklearn.model_selection import train_test_split, GridSearchCV\n",
        "from sklearn.linear_model import LogisticRegression\n",
        "from sklearn.metrics import accuracy_score, classification_report\n",
        "\n",
        "# Assuming X and y are already defined\n",
        "# Split the data into training and testing sets\n",
        "X_train, X_test, y_train, y_test = train_test_split(X, y, test_size=0.2, random_state=42)\n",
        "\n",
        "# Define the parameter grid for hyperparameter tuning\n",
        "param_grid = {'C': [0.001, 0.01, 0.1, 1, 10, 100]}  # You can adjust the range of C values as needed\n",
        "\n",
        "# Initialize the Logistic Regression classifier\n",
        "logistic_model = LogisticRegression()\n",
        "\n",
        "# Perform grid search with cross-validation\n",
        "grid_search = GridSearchCV(logistic_model, param_grid, cv=5, scoring='accuracy', n_jobs=-1)\n",
        "grid_search.fit(X_train, y_train)\n",
        "\n",
        "# Get the best hyperparameters\n",
        "best_C = grid_search.best_params_['C']\n",
        "\n",
        "# Train the Logistic Regression classifier with the best hyperparameters\n",
        "logistic_model_best = LogisticRegression(C=best_C)\n",
        "logistic_model_best.fit(X_train, y_train)\n",
        "\n",
        "# Predict on the test set\n",
        "logistic_y_pred = logistic_model_best.predict(X_test)\n",
        "\n",
        "# Function to print model performance\n",
        "def print_model_performance(model_name, y_test, y_pred):\n",
        "    print(f'{model_name} Model Performance:')\n",
        "    print(f'Accuracy: {accuracy_score(y_test, y_pred)}')\n",
        "    print(classification_report(y_test, y_pred))\n",
        "    print('-'*60)\n",
        "\n",
        "# Print model performance\n",
        "print_model_performance('Logistic Regression (Tuned)', y_test, logistic_y_pred)\n"
      ],
      "metadata": {
        "colab": {
          "base_uri": "https://localhost:8080/"
        },
        "id": "SXtzZMbwfY7y",
        "outputId": "a321fa9a-09af-47ac-f037-818844aad74e"
      },
      "execution_count": 8,
      "outputs": [
        {
          "output_type": "stream",
          "name": "stderr",
          "text": [
            "/usr/local/lib/python3.10/dist-packages/sklearn/linear_model/_logistic.py:458: ConvergenceWarning: lbfgs failed to converge (status=1):\n",
            "STOP: TOTAL NO. of ITERATIONS REACHED LIMIT.\n",
            "\n",
            "Increase the number of iterations (max_iter) or scale the data as shown in:\n",
            "    https://scikit-learn.org/stable/modules/preprocessing.html\n",
            "Please also refer to the documentation for alternative solver options:\n",
            "    https://scikit-learn.org/stable/modules/linear_model.html#logistic-regression\n",
            "  n_iter_i = _check_optimize_result(\n"
          ]
        },
        {
          "output_type": "stream",
          "name": "stdout",
          "text": [
            "Logistic Regression (Tuned) Model Performance:\n",
            "Accuracy: 0.7237205162438808\n",
            "              precision    recall  f1-score   support\n",
            "\n",
            "           0       0.70      0.62      0.66      1217\n",
            "           1       0.81      0.78      0.79      1469\n",
            "           2       0.85      0.66      0.74       383\n",
            "           3       0.65      0.64      0.65      1246\n",
            "           4       0.67      0.71      0.69      1862\n",
            "           5       0.37      0.13      0.19       199\n",
            "           6       0.78      0.70      0.74       991\n",
            "           7       0.73      0.83      0.78      3740\n",
            "           8       0.81      0.10      0.18       128\n",
            "\n",
            "    accuracy                           0.72     11235\n",
            "   macro avg       0.71      0.58      0.60     11235\n",
            "weighted avg       0.72      0.72      0.72     11235\n",
            "\n",
            "------------------------------------------------------------\n"
          ]
        },
        {
          "output_type": "stream",
          "name": "stderr",
          "text": [
            "/usr/local/lib/python3.10/dist-packages/sklearn/linear_model/_logistic.py:458: ConvergenceWarning: lbfgs failed to converge (status=1):\n",
            "STOP: TOTAL NO. of ITERATIONS REACHED LIMIT.\n",
            "\n",
            "Increase the number of iterations (max_iter) or scale the data as shown in:\n",
            "    https://scikit-learn.org/stable/modules/preprocessing.html\n",
            "Please also refer to the documentation for alternative solver options:\n",
            "    https://scikit-learn.org/stable/modules/linear_model.html#logistic-regression\n",
            "  n_iter_i = _check_optimize_result(\n"
          ]
        }
      ]
    },
    {
      "cell_type": "code",
      "source": [
        "from sklearn.model_selection import train_test_split, GridSearchCV\n",
        "from sklearn.naive_bayes import MultinomialNB\n",
        "from sklearn.metrics import accuracy_score, classification_report\n",
        "\n",
        "# Assuming X and y are already defined\n",
        "# Split the data into training and testing sets\n",
        "X_train, X_test, y_train, y_test = train_test_split(X, y, test_size=0.2, random_state=42)\n",
        "\n",
        "# Define the parameter grid for hyperparameter tuning\n",
        "param_grid = {'alpha': [0.1, 0.5, 1.0, 1.5, 2.0]}  # You can adjust the range of alpha values as needed\n",
        "\n",
        "# Initialize the Naive Bayes classifier\n",
        "nb_model = MultinomialNB()\n",
        "\n",
        "# Perform grid search with cross-validation\n",
        "grid_search = GridSearchCV(nb_model, param_grid, cv=5, scoring='accuracy', n_jobs=-1)\n",
        "grid_search.fit(X_train, y_train)\n",
        "\n",
        "# Get the best hyperparameters\n",
        "best_alpha = grid_search.best_params_['alpha']\n",
        "\n",
        "# Train the Naive Bayes classifier with the best hyperparameters\n",
        "nb_model_best = MultinomialNB(alpha=best_alpha)\n",
        "nb_model_best.fit(X_train, y_train)\n",
        "\n",
        "# Predict on the test set\n",
        "nb_y_pred = nb_model_best.predict(X_test)\n",
        "\n",
        "# Function to print model performance\n",
        "def print_model_performance(model_name, y_test, y_pred):\n",
        "    print(f'{model_name} Model Performance:')\n",
        "    print(f'Accuracy: {accuracy_score(y_test, y_pred)}')\n",
        "    print(classification_report(y_test, y_pred))\n",
        "    print('-'*60)\n",
        "\n",
        "# Print model performance\n",
        "print_model_performance('Naive Bayes (Tuned)', y_test, nb_y_pred)\n"
      ],
      "metadata": {
        "colab": {
          "base_uri": "https://localhost:8080/"
        },
        "id": "M3CJvJcSYKlL",
        "outputId": "ad5bf9d9-eb4a-4572-f8e8-bfe851ac7499"
      },
      "execution_count": 6,
      "outputs": [
        {
          "output_type": "stream",
          "name": "stdout",
          "text": [
            "Naive Bayes (Tuned) Model Performance:\n",
            "Accuracy: 0.5080551846906987\n",
            "              precision    recall  f1-score   support\n",
            "\n",
            "           0       0.78      0.34      0.48      1217\n",
            "           1       0.81      0.30      0.44      1469\n",
            "           2       0.77      0.30      0.43       383\n",
            "           3       0.69      0.26      0.38      1246\n",
            "           4       0.71      0.32      0.44      1862\n",
            "           5       0.24      0.14      0.17       199\n",
            "           6       0.87      0.25      0.39       991\n",
            "           7       0.43      0.94      0.59      3740\n",
            "           8       0.78      0.05      0.10       128\n",
            "\n",
            "    accuracy                           0.51     11235\n",
            "   macro avg       0.68      0.32      0.38     11235\n",
            "weighted avg       0.64      0.51      0.47     11235\n",
            "\n",
            "------------------------------------------------------------\n"
          ]
        }
      ]
    },
    {
      "cell_type": "markdown",
      "source": [
        "# **Recommendation System**"
      ],
      "metadata": {
        "id": "frG4x7ehWe1D"
      }
    },
    {
      "cell_type": "code",
      "source": [
        "def recommend_movie(emotion_input, data, model, tfidf, label_encoder):\n",
        "    # Transform the input emotion to its numerical label\n",
        "    try:\n",
        "        emotion_label = label_encoder.transform([emotion_input])[0]\n",
        "    except ValueError:\n",
        "        return f\"Emotion '{emotion_input}' is not recognized by the label encoder.\"\n",
        "\n",
        "    # Filter movies with the given emotion\n",
        "    recommended_movies = data[data['Emotion'] == emotion_input]['Movie_Name'].unique()\n",
        "\n",
        "    # Debug: Check the number of movies found for the given emotion\n",
        "    print(f\"Number of movies found for emotion '{emotion_input}': {len(recommended_movies)}\")\n",
        "\n",
        "    if len(recommended_movies) > 0:\n",
        "        return recommended_movies.tolist()  # Convert numpy array to list for easier handling/display\n",
        "    else:\n",
        "        return \"No movies found for the given emotion.\"\n",
        "\n",
        "# Example usage\n",
        "emotion_input = 'sadness'\n",
        "recommendations = recommend_movie(emotion_input, data, model, tfidf, label_encoder)\n",
        "\n",
        "# Displaying the number of recommendations and the first few as a sample for the user\n",
        "print(f\"Number of recommendations: {len(recommendations)}\")\n",
        "print(\"Sample recommendations:\", recommendations[:len(recommendations)])  # Show the first 100 as a sample\n"
      ],
      "metadata": {
        "colab": {
          "base_uri": "https://localhost:8080/"
        },
        "id": "PIjXs0UzWen2",
        "outputId": "c62b7699-f296-4092-8bb8-13a9ffefa1cb"
      },
      "execution_count": null,
      "outputs": [
        {
          "output_type": "stream",
          "name": "stdout",
          "text": [
            "Number of movies found for emotion 'sadness': 2308\n",
            "Number of recommendations: 2308\n",
            "Sample recommendations: ['The Fall Guy', 'Challengers', 'The Judge', 'Mother of the Bride', 'Megalopolis', 'Deadpool & Wolverine', 'Dune', 'The Holdovers', 'Despicable Me 4', 'Titanic', 'In the Land of Saints & Sinners', 'Purple Hearts', 'X', 'Once Upon a Time in... Hollywood', 'Force of Nature: The Dry 2', 'Chief of Station', 'All of Us Strangers', 'I Saw the TV Glow', 'Damsel', 'Inception', 'The Talented Mr. Ripley', 'Prom Dates', 'No Hard Feelings', 'The Hunger Games: The Ballad of Songbirds & Snakes', 'Blended', 'Forrest Gump', 'Troy', 'Deadpool', 'Gladiator 2', 'Mean Girls', 'Sixteen Candles', 'Past Lives', 'Star Wars: Episode VI - Return of the Jedi', 'Idiocracy', 'Pearl', 'Van Helsing', 'Glass', 'Good Will Hunting', 'Fifty Shades of Grey', '10 Things I Hate About You', 'Avengers: Endgame', 'Mad Max 2', 'Aliens', 'Gone Girl', 'Saving Private Ryan', 'Culpa mía', 'Requiem for a Dream', 'Guardians of the Galaxy Vol. 3', 'Family Star', 'Gummo', 'Men', 'The Princess Bride', 'Srpski film', 'Babylon', 'Pretty in Pink', 'John Wick', 'A Quiet Place', \"Five Nights at Freddy's\", 'The Prestige', 'Baghead', 'Jeanne du Barry', 'Logan', 'Shiti Hanta', 'Avatar: The Way of Water', 'The Blue Lagoon', 'Prisoners', 'The Dry', 'Girl, Interrupted', 'Asteroid City', 'Oldeuboi', 'Tombstone', 'Kimitachi wa dô ikiru ka', 'Ready Player One', 'Gran Turismo', 'Sen to Chihiro no kamikakushi', 'Eyes Wide Shut', 'Stand by Me', \"Mothers' Instinct\", 'The Help', 'Cidade de Deus', 'Happy Gilmore', 'Once Upon a Time in America', 'Les trois mousquetaires : Milady', 'La sociedad de la nieve', 'Wildcat', 'Drive-Away Dolls', 'The Passion of the Christ', 'The Age of Adaline', \"She's Out of My League\", 'The Pianist', 'After', 'The Martian', 'Unfaithful', 'Lola', 'Damaged', 'Mulholland Dr.', 'A Clockwork Orange', 'American History X', 'Vash', 'Nymphomaniac: Vol. I', 'Lolita', 'Knives Out', 'The VVitch: A New-England Folktale', 'The Hangover', 'Lost in Translation', '(500) Days of Summer', \"La vie d'Adèle\", 'Three Thousand Years of Longing', 'Taken', 'A Haunting in Venice', 'Imaginary', 'Aftersun', 'A Man Called Otto', 'Her', 'Jagten', 'E.T. the Extra-Terrestrial', 'The Baby', 'The Imitation Game', 'Legally Blonde', 'The Place Beyond the Pines', 'Atlas', 'Elemental', 'The Whale', 'The Exorcist: Believer', \"That's My Boy\", 'Napoleon Dynamite', 'The Guest', 'Cashback', 'Casablanca', 'Willy Wonka & the Chocolate Factory', 'Beautiful Boy', 'Vicky Cristina Barcelona', 'Sin City', 'Shane', 'Under the Silver Lake', 'Space Jam', 'Indiana Jones and the Last Crusade', 'Labyrinth', 'Interview with the Vampire: The Vampire Chronicles', 'Sing', 'The Favourite', 'Marry Me', 'A Star Is Born', 'Let It Be', 'Woody Woodpecker Goes to Camp', 'Moulin Rouge!', 'Meet Joe Black', 'Raintree County', 'The Parent Trap', 'Cinderella', 'Il portiere di notte', 'Go', 'Gone with the Wind', 'The Godfather Part III', 'Little Children', 'The Sound of Music', 'The Bourne Identity', 'Tomb Raider', 'The English Patient', 'Sexy Beast', 'Manchester by the Sea', 'Alita: Battle Angel', 'Erin Brockovich', 'The Edge of Seventeen', 'Spring Breakers', \"National Lampoon's Animal House\", 'Predestination', 'Spoorloos', 'Verdens verste menneske', '21 Jump Street', 'Shang-Chi and the Legend of the Ten Rings', 'The Cabin in the Woods', 'Sex and the City', 'Warrior', 'The Color Purple', 'After Everything', 'Along Came Polly', 'Big Daddy', 'Spider-Man 2', 'Remember the Titans', 'The Deer Hunter', 'Red Notice', 'The Shape of Water', 'Step Brothers', 'Mission: Impossible - Fallout', 'Jiu Lóng Chéng Zhài·Wéi Chéng', 'Gifted', 'Emily the Criminal', 'Before Sunrise', 'She Came to Me', 'Some Kind of Wonderful', 'Guardians of the Galaxy Vol. 2', 'The Graduate', 'Zero Dark Thirty', 'Wonder Woman', 'Mashina lyubvi', 'Sense and Sensibility', 'Dogman', 'The Karate Kid', 'The Girl with the Dragon Tattoo', 'Hot Fuzz', 'Just One of the Guys', 'Antichrist', 'The Lovely Bones', 'Palmer', 'Captain Fantastic', 'Alien³', 'What Jennifer Did', 'Cast Away', 'Superman', 'Shame', 'Shaun of the Dead', 'The Flintstones', 'Sucker Punch', \"Lady Chatterley's Lover\", 'The Blues Brothers', '12 Monkeys', 'A Matter of Life and Death', 'The Beach', 'Mystic River', 'Garfield: The Movie', 'Scent of a Woman', 'Crash', 'The Autopsy of Jane Doe', 'Snowpiercer', 'Edward Scissorhands', 'Kuolleet lehdet', 'Transformers: Revenge of the Fallen', 'The Road', 'Pet Sematary', 'Black Panther: Wakanda Forever', 'Malayalee from India', '12 Years a Slave', 'The Addams Family', 'Birds of Prey and the Fantabulous Emancipation of One Harley Quinn', 'Close Encounters of the Third Kind', 'Old Dads', 'Terms of Endearment', 'Ted', 'Dark City', 'Jules', 'Venom: Let There Be Carnage', 'Amy Winehouse', 'Groundhog Day', 'What We Do in the Shadows', 'Lion', 'American Assassin', 'Ölümlü Dünya 2', 'King Arthur: Legend of the Sword', '8 Mile', 'The Conjuring 2', 'Remember Me', 'Superhero Movie', 'Shrek Forever After', 'Cuckoo', 'Citizen Kane', 'Halloween', 'GoldenEye', \"What's Eating Gilbert Grape\", 'The Iceman', 'Hannibal', 'This Is Where I Leave You', 'The Princess and the Frog', 'Sideways', 'Birdman or (The Unexpected Virtue of Ignorance)', 'RoboCop', 'The Bride', 'Players', 'Beautiful Disaster', 'Dual', 'Enola Holmes', 'The Green Inferno', 'A Walk to Remember', 'Pleasure', 'Nymphomaniac: Vol. II', 'Cars 2', 'My Big Fat Greek Wedding 3', 'Marie Antoinette', 'Tinker Tailor Soldier Spy', 'Someone Like You', 'Chef', 'The Ten Commandments', 'Orphan', 'Good Luck to You, Leo Grande', 'Lola rennt', \"Jacob's Ladder\", 'Waves', 'This Is the End', 'The Holiday', 'Ticket to Paradise', 'Project Hail Mary', \"She's the Man\", 'Papillon', 'Teen Witch', \"The Emperor's New Groove\", 'Gravity', 'Friends with Benefits', 'What Ever Happened to Baby Jane?', 'Picture of Beauty', 'Major Payne', 'Riddick', 'Mid90s', 'Perfume: The Story of a Murderer', '17 Again', 'Love at First Sight', 'Code 8', 'Sweet Home Alabama', 'Adventures in Babysitting', 'Street Kings', 'Enter the Void', 'Kingpin', 'Five Feet Apart', 'The Doors', 'Stopmotion', 'The Poughkeepsie Tapes', 'The Mighty Ducks', 'Endless Love', 'Inherent Vice', 'The Wild Robot', 'Forgetting Sarah Marshall', 'Match Point', 'Demolition Man', 'The Descendants', 'Freaky Friday', 'Summer School', 'A Bigger Splash', 'Resident Evil: Welcome to Raccoon City', 'Pig', 'Forever My Girl', 'Megamind', 'Real Steel', 'Something Borrowed', 'The Wedding Singer', 'Fracture', 'Mask', 'Cool Hand Luke', 'The Other Zoey', 'Into the Woods', 'Tron', 'The Prince of Tides', 'Ghost Ship', 'Revolutionary Road', 'Girls on Film', 'Big Jake', 'Saturday Night Fever', 'Roman Holiday', 'Bee Movie', 'The Three Musketeers', 'Swiss Army Man', 'Real Genius', 'Ella Enchanted', 'Thir13en Ghosts', 'Mea Culpa', \"Don't Tell Mom the Babysitter's Dead\", 'Phantom Thread', 'Nomadland', 'Private School', 'Jarhead', 'Top Secret!', 'Sound of Metal', 'The Mummy: Tomb of the Dragon Emperor', 'Addams Family Values', \"Grandma's Boy\", 'Vanishing Point', 'Disobedience', 'The Bad News Bears', 'The Vow', 'Teen Wolf Too', 'Låt den rätte komma in', 'The Fall', \"Singin' in the Rain\", 'Morbius', 'What Dreams May Come', 'Handsome Devil', 'Senior Year', 'Coup de chance', 'Random Harvest', 'Ted 2', 'Summer Rental', 'The Toxic Avenger', 'Disturbia', 'Hardcore', 'Pitch Perfect 2', 'Wild', 'Wij', 'Demolition', 'Kiss Kiss Bang Bang', 'Under the Tuscan Sun', 'Drag Me to Hell', 'The World Is Not Enough', 'The Tree of Life', 'xXx: Return of Xander Cage', 'The Boogeyman', 'The Fighter', 'The Land Before Time', 'A Cinderella Story', 'Sorcerer', 'Monamour', 'Elysium', 'Varsity Blues', 'Back to the Future Part III', 'On the Waterfront', 'The Frighteners', 'Stepmom', 'The Shootist', 'City Slickers', 'Chung Hing sam lam', 'Det sjunde inseglet', 'Better Off Dead...', 'West Side Story', 'The Hot Chick', 'Antares', 'Braindead', 'Lucas', 'King of New York', 'Boss Level', 'Angel Heart', 'Stillwater', 'Cheaper by the Dozen', 'John Tucker Must Die', 'White Coats', 'Murder Mystery', 'Airport 1975', 'The Apartment', 'Austin Powers: The Spy Who Shagged Me', 'Fanboys', 'Juror #2', 'The Wrestler', 'Taken 2', 'Life of Brian', 'Friday Night Lights', 'The Nightmare Before Christmas', 'Paddington', 'A River Runs Through It', 'Austin Powers in Goldmember', 'Sleepless in Seattle', 'The Burning', 'Rapito', 'Rounders', 'Battlefield Earth', 'Love Again', 'Adaptation.', 'Swingers', 'The Last Picture Show', 'Babel', 'The Drop', 'Marlowe', 'A Room with a View', 'The Hangover Part II', 'Hugo', 'Family', 'The House Bunny', 'The Last Kumite', 'Blades of Glory', 'Where the Heart Is', 'Finding Dory', 'Vina: Sebelum 7 Hari', 'The Moon and Back', 'The Shrouds', 'Rebecca', 'Dancing Lady', 'Billy Elliot', 'Life', 'Do Aur Do Pyaar', 'Starve Acre', 'The Glass Castle', 'The Fountain', 'Deuce Bigalow: Male Gigolo', 'Zhou', 'Happy Death Day', 'While You Were Sleeping', 'Missing', 'Skinamarink', 'About My Father', 'Clear and Present Danger', 'A Good Person', 'Picnic at Hanging Rock', 'The Secret Life of Pets', 'Rocky Balboa', 'Znachor', 'Living', 'Eat Pray Love', 'Planes, Trains & Automobiles', \"Buffalo '66\", 'Accepted', 'Army of Darkness', 'Cherry', 'Escape Room: Tournament of Champions', 'A Goofy Movie', 'Places in the Heart', 'The King of Comedy', 'Vision Quest', 'Kate', 'Tootsie', 'Ôdishon', 'Elf', 'Dead Presidents', 'Death to Smoochy', 'In the Cut', 'All India Rank', \"The Girl in the Spider's Web\", 'Ammonite', 'Senna', 'Twister', 'Shallow Grave', 'Congo', 'The Remains of the Day', 'A Ghost Story', 'Rocky II', 'Half Nelson', 'The Imaginarium of Doctor Parnassus', 'Born on the Fourth of July', \"National Lampoon's Christmas Vacation\", 'Jodaeiye Nader az Simin', 'Hostel: Part II', 'Amores perros', 'P.S. I Love You', 'The Son', 'The Happening', 'Sister Act 2: Back in the Habit', 'Bronson', 'Lust och fägring stor', 'Dark Shadows', 'Great Expectations', \"I'll See You in My Dreams\", 'Isle of Dogs', 'Stealing Beauty', 'Suitable Flesh', 'American Me', 'Shiva Baby', 'Changeling', 'Summer Camp', 'Paranormal Activity', 'High Life', 'Last Looks', 'Fences', 'Mrs. Harris Goes to Paris', 'A Different Man', 'I Love You, Man', 'Annabelle: Creation', \"Miranda's Victim\", 'Michael Clayton', 'Ed Wood', \"Daddy's Home\", 'The Pledge', 'Mary Queen of Scots', 'Fire in the Sky', 'We Bought a Zoo', 'The Cat in the Hat', 'Sang-froid', 'Freaked', \"Valentine's Day\", 'An Cailín Ciúin', 'Emma', \"It's Complicated\", 'Wet Hot American Summer', 'Doctor Zhivago', 'Snatched a Billionaire to be My Husband', 'Influencer', 'Supernova', 'The Hours', 'Tenki no ko', 'See How They Run', \"Magic Mike's Last Dance\", 'Paradise', 'DragonHeart', 'Passion simple', 'What a Way to Go!', 'Malcolm & Marie', 'Durante la tormenta', 'Trouble with the Curve', 'Lovelace', 'Now & Later', 'Out of the Furnace', 'Ip Man', 'Blame It on Rio', 'Being There', 'Inside Daisy Clover', \"Willy's Wonderland\", 'Joe Dirt', 'Dennis the Menace', 'Pennies from Heaven', 'Juliet, Naked', 'Synecdoche, New York', 'Causeway', 'The Onania Club', 'Mallrats', 'Six Days Seven Nights', 'Nebraska', 'The Darjeeling Limited', 'Parenthood', 'Beethoven', 'The King of Staten Island', 'Judgment at Nuremberg', 'Beautiful Girls', 'Back in Action', 'Garden State', 'Greta', 'Four Brothers', 'The Straight Story', 'The Bravados', 'Ballerina', 'Frida', 'The Purge: Anarchy', 'Australia', 'Mortal Kombat: Annihilation', 'The Bad News Bears in Breaking Training', 'Super', 'The Girl on the Mountain', 'The Great Escaper', 'The Way', 'The Counselor', 'Cool Runnings', 'Flightplan', 'Girl in the Box', 'Breakdown', 'Of Mice and Men', 'Four Rooms', 'Pieces of a Woman', 'The Dark and the Wicked', 'Orgazmo', 'The Shack', 'The Man Who Shot Liberty Valance', 'Rajkumar', 'Love Story', 'T2 Trainspotting', 'Frequency', 'En del av dig', 'Nikita', 'Chasing Amy', 'Searching', 'The Swimmer', 'The Pink Panther', 'All That Jazz', 'Only Lovers Left Alive', 'The Final Girls', 'The Weekend Away', 'The Postcard Killings', \"Ripley's Game\", \"The Tiger's Apprentice\", 'The Ridiculous 6', 'Friday the 13th: The Final Chapter', 'Murder on the Orient Express', 'Tati Part Time', 'Night School', 'A Good Day to Die Hard', \"A Dog's Purpose\", 'Friday the 13th Part 2', 'Drive Me Crazy', 'Death on the Nile', 'Malice', 'Spencer', 'Behind Enemy Lines', \"Who's Afraid of Virginia Woolf?\", 'Jesus Christ Superstar', 'Joy of Sex', 'Die bitteren Tränen der Petra von Kant', 'The Beat Beneath My Feet', 'Coming 2 America', 'The Only Living Boy in New York', 'About a Boy', 'Beaches', 'Horse Girl', 'Lost Girls and Love Hotels', 'Kazaam', \"Io sono l'amore\", 'Bad Boys', 'Duel in the Sun', 'From Here to Eternity', 'Kimi no suizô o tabetai', 'Oliver & Company', 'DeAr', '21 Grams', 'Sabrina', 'Nekromantik', 'Eighth Grade', 'Desperately Seeking Susan', 'Faithfully Yours', 'Waitress', 'True Story', 'Jersey Girl', 'Bros', 'The Squid and the Whale', 'Frances Ha', \"All the President's Men\", 'Host', 'Good Grief', 'Dancer in the Dark', 'Daddy Day Care', 'If I Stay', 'The Ice Storm', \"Stranizza d'amuri\", 'Freeway', 'A Single Man', 'El cuerpo', 'The Water Diviner', 'Dangerous Minds', 'Outbreak', 'Shampoo', 'Manhattan', 'Retfærdighedens ryttere', 'Out of the Blue', 'Walkabout', 'The Wild Bunch', 'Vengeance', 'Ikiru', 'The Maltese Falcon', 'Ice Age: Dawn of the Dinosaurs', 'Due Date', 'Brideshead Revisited', 'Manodrome', 'Victor Frankenstein', 'Women in Love', 'Fitting In', 'House of Sand and Fog', 'The Time Machine', 'The Mosquito Coast', 'Koroshiya 1', 'Sangre en la boca', 'Risen', 'Átame!', 'Marnie', 'La Bamba', 'August Rush', 'Taare Zameen Par', 'The Break-Up', 'Bad Behaviour', 'Speak', 'It Lives Inside', 'Tully', \"It's Kind of a Funny Story\", 'Paper Towns', 'The Midnight Sky', 'Klip', 'Pink Floyd: The Wall', 'Brandy Hellville & the Cult of Fast Fashion', 'Airplane II: The Sequel', 'The Station Agent', 'Mending the Line', 'Gekijô-ban Kimetsu no Yaiba Mugen Ressha-hen', 'Birth/Rebirth', 'Whip It', 'Clerks III', 'May', 'Gaslight', 'Welcome to the Dollhouse', 'A Little Princess', 'White Nights', 'James and the Giant Peach', 'Georgia Rule', 'Blue Jasmine', 'Diary of a Wimpy Kid: Rodrick Rules', 'Hanyo', 'Powder', '3096 Tage', 'Just Like Heaven', \"L'uomo che guarda\", \"Tyson's Run\", 'The Postman Always Rings Twice', 'Hi Nanna', 'The Do-Over', 'Hard Ball', 'The Grapes of Wrath', 'The Inbetweeners Movie', 'La Belle Noiseuse', 'An American Tail', 'Johnny Mnemonic', 'Freddy Got Fingered', 'Good Joe Bell', 'The Breed', 'Elizabeth: The Golden Age', 'About Schmidt', 'White Oleander', 'Saving Mr. Banks', 'One from the Heart', 'Mansfield Park', 'Mommy', 'The Cable Guy', 'You Can Live Forever', 'Conspiracy Theory', 'The War Zone', 'Siberia', 'Quigley Down Under', 'Seconds', 'Hyena Road', 'Good Bye Lenin!', 'I Wish You All the Best', 'The Bright Side', 'The Diary of a Teenage Girl', 'Big Night', 'La montagna del dio cannibale', 'Oye Bhole Oye', 'Todo sobre mi madre', 'Las oscuras primaveras', 'Stuck in Love', 'Last Christmas', 'Le salaire de la peur', 'Alpha', 'The Farewell', 'Supergirl', 'Sweet Girl', 'Centurion', 'The Company Men', 'Gekijôban Haikyû!! Gomi Suteba no Kessen', 'Hammerharte Jungs', 'Bill & Ted Face the Music', 'Without a Paddle', '1922', 'The Longest Yard', 'Sick', 'Chugyeokja', '37°2 le matin', 'What About Bob?', 'Get Hard', 'The Party', 'Entre nous', 'The Underdoggs', 'Jeanne Dielman, 23 quai du Commerce, 1080 Bruxelles', 'What a Girl Wants', 'Happy Few', 'Blue Bayou', 'In from the Side', \"Mr. Popper's Penguins\", 'Tasogare Seibei', 'The Death of Robin Hood', 'Last Flag Flying', 'Happy Ending', 'Love & Mercy', 'Gil Bok-soon', 'The Texas Chainsaw Massacre 2', 'Taeksi woonjunsa', 'The Vampire Next Door', 'White Boy Rick', 'Alto Knights', 'Siren', 'Boiler Room', 'Diet of Sex', 'Ma', 'My Bloody Valentine', 'Before I Fall', 'Be Cool', 'Bosco', 'Nine', 'Withnail and I', 'Modern Times', 'Take Me Home', 'Poltergeist II: The Other Side', 'Loverboy', 'The Substitute', 'Left Behind', 'The Next Karate Kid', 'The F Word', 'The Entity', 'Cocorico', 'Muzzle', 'Mishehu Yohav Mishehu', 'Thirteen Days', 'The Fundamentals of Caring', 'The Fifth Floor', 'Sinister 2', 'Chocolate Lizards', 'Forsaking All Others', 'Blithe Spirit', 'Zerkalo', 'Harry and Tonto', 'Crisis', 'Black Dynamite', 'Hoo-goong: Je-wang-eui cheob', 'Doubt', 'The Escapist', 'Vera Cruz', 'Arthur et les Minimoys', 'Just a Farmer', 'The Imposter', 'Tell Me Who I Am', 'Fathers & Daughters', 'Life as We Know It', 'Paper Moon', 'Spider-Man: Lotus', 'Jade', 'Behaving Badly', 'Wil', 'Maria', 'Breaking the Waves', 'Call Jane', 'Cheaper by the Dozen 2', 'Midnight Sun', 'The Portrait', 'The Maid', 'Kabhi Khushi Kabhie Gham...', 'The Black Dahlia', \"Les filles d'Olfa\", 'The Rum Diary', 'Candy', 'The Misfits', 'The Money Pit', 'Crazy Heart', \"This Boy's Life\", 'Ro Gi Wan', 'Saw VI', 'The Miracle Season', 'El cadáver de Anna Fritz', \"Child's Play 2\", 'Domino', '25th Hour', 'Kicking & Screaming', 'Still Alice', 'Beau-père', 'Star Trek V: The Final Frontier', 'Volver', 'Nadikar', 'The Electrical Life of Louis Wain', 'Nightbreed', 'Being the Ricardos', 'Last Night', 'Raising Helen', 'First Reformed', 'One Eight Seven', 'Till', 'Black Knight', 'K-PAX', \"Amelia's Children\", 'The Treasure of the Sierra Madre', 'The Bounty Hunter', 'The Horse Soldiers', 'Life in a Year', 'Ghost Dog: The Way of the Samurai', '28 Days', 'Johnny Dangerously', 'Veronica Mars', 'Spread', 'We Have Always Lived in the Castle', 'Dreamgirls', 'I Know Who Killed Me', 'Clean', 'The Alamo', 'Boudica', 'Mr. Jones', 'Kurenai no buta', 'Mudbound', 'Clerks II', 'The Wager: A Tale of Shipwreck, Mutiny, and Murder', 'Catch and Release', 'G.I. Jane', 'Spoiler Alert', 'Purple Rain', 'Appaloosa', 'Lone Star', 'Local Hero', 'Joe', 'Shaft', 'Bakjwi', 'Arthur', 'El conde', 'Rough Night', 'Abre los ojos', 'Star Trek: Section 31', 'Obsessed', 'Half Baked: Totally High', 'Stand Up Guys', 'Last Sentinel', 'About Cherry', 'Late Bloomer', 'To Leslie', 'The Walking Dead', \"Legend of the Guardians: The Owls of Ga'Hoole\", 'Oddity', 'Drowning by Numbers', 'Swiss Family Robinson', \"Madea's Family Reunion\", 'Assassin', 'Three', '6 Hours Away', 'Le consentement', 'Akeelah and the Bee', '172 Days', 'Miracle in Cell No. 7', 'Lost Girls', 'Trois couleurs: Bleu', 'Holy Smoke', 'Witch', 'Psycho II', 'Open Season', 'Mary and Max.', 'Mientras duermes', 'Crossroads', 'Dead Man Walking', 'Betray', 'Little Big League', 'Dolor y gloria', 'Amour', 'Life as a House', 'Let Him Go', 'School Ties', 'Free State of Jones', \"Smilin' Through\", 'Rust', 'Festen', 'The Rewrite', 'Brian and Charles', 'Quadrophenia', 'Loving Vincent', 'Swept Away', 'Zetchô kazoku: Aijin-darake', 'Rita', 'Awake', \"State's Evidence\", 'Vacation Friends', 'The Ice Age Adventures of Buck Wild', 'In the Bedroom', 'A Place in the Sun', 'Age of Indiscretion', 'Dear Zachary: A Letter to a Son About His Father', 'Elektra Luxx', 'USS Indianapolis: Men of Courage', 'A Nightmare on Elm Street: The Dream Child', 'Howards End', 'De forbandede år 2', 'Maladolescenza', 'Tangerine', 'Buddy Games: Spring Awakening', 'Above the Law', '40 Days and 40 Nights', \"'71\", 'Fallen', 'Werk ohne Autor', 'Tôkyô monogatari', 'Philomena', 'Sister My Sister', 'The Miseducation of Cameron Post', 'Secrets & Lies', 'Andrei Rublev', 'Replicas', 'Mijn beste vriendin Anne Frank', 'Jingle All the Way', 'Broken Flowers', 'Jackie', 'Sibyl', 'Postcards from the Edge', \"Daddy's Little Girls\", 'Grizzly Man', 'A Woman Under the Influence', 'Kaguya-hime no monogatari', 'The Doom Generation', 'Chemical Hearts', 'Camp Nowhere', 'Turbo', 'American Ultra', 'Le deuxième acte', 'Chun gwong ja sit', 'What Is Life Worth', 'Tralala', 'Cat on a Hot Tin Roof', 'Irrational Man', '3:10 to Yuma', 'Embrace of the Vampire', 'The Last Showgirl', 'The Lost King', 'Devdas', 'After Yang', 'The Cobbler', 'All We Imagine as Light', 'The Kite Runner', 'Wild Target', '2046', \"The Man Who Wasn't There\", 'Quiz Show', 'Wall Street: Money Never Sleeps', 'The Forgiven', 'Baby Boy', 'Kursk', 'The Birth of a Nation', 'August', 'Mildred Pierce', 'The Clovehitch Killer', 'Diary of a Wimpy Kid: Dog Days', 'Amateur Teens', 'The Majestic', 'ParaNorman', 'Dark Places', 'Quy Cau', 'Ett sista race', 'Clementine', 'Lies We Tell', 'Enough Said', 'La luna', 'Before I Wake', 'Rotting in the Sun', 'China Doll', 'Feel the Beat', \"I Don't Feel at Home in This World Anymore.\", 'The World According to Garp', 'The Miracle Worker', \"Brewster's Millions\", \"Alice Doesn't Live Here Anymore\", 'The In Between', 'Capriccio', 'Morte a Venezia', 'Stowaway', 'Short Term 12', 'Limbo', 'Love in the Time of Cholera', 'Sunrise', 'In Secret', 'Bad News Bears', 'The Last Thing He Wanted', 'Train Dreams', 'Shi mian mai fu', 'Reign Over Me', 'Romance at the Vineyard', 'Kill List', 'David Holmes: The Boy Who Lived', 'Piccole labbra', 'The Other Side of the Door', 'East Bay', 'Columbus', 'Beneath the Valley of the Ultra-Vixens', 'Evelyn', 'Looney Tunes: Back in Action', 'Concussion', 'We Are Your Friends', 'Yours, Mine & Ours', 'Premonition', 'The 33', 'Seven Sweethearts', 'Frantic', 'The Horse Whisperer', 'The Heart Is Deceitful Above All Things', 'Clown', 'Premiers désirs', 'Stress Positions', 'Belly', 'Tides', 'Everything, Everything', 'Hold the Dark', 'Bad Santa', 'The Nanny Diaries', 'The Unknown Country', 'Thinner', 'Music', 'Rise of the Footsoldier', 'Experiment 77', 'Passengers', 'Trial by Fire', 'The Starving Games', 'Trumbo', 'Lost and Delirious', 'Dangerous', 'Survivor', 'Everyone Says I Love You', 'Mother, May I?', 'Kill Your Darlings', 'Someone Great', 'Chained', 'Yours, Mine and Ours', 'Love in Paris', 'Butcher, Baker, Nightmare Maker', 'Collateral Beauty', \"Un moment d'égarement\", 'American Pastoral', 'When We First Met', 'Muppets Most Wanted', 'Wonder Wheel', 'Une vraie jeune fille', 'The Forge', 'Falling', 'A Little Chaos', 'The Good Half', \"The Mirror Crack'd\", 'The Mummy', 'To the Wonder', 'Benny & Joon', 'Salvable', 'The Kashmir Files', 'The Skeleton Twins', 'Tender Mercies', 'Tooth Fairy', 'Siddharth Roy', 'Dare mo shiranai', 'Accident Man', 'The Man Who Killed Don Quixote', '3 Men and a Little Lady', 'The Immaculate Room', 'A Night to Remember', 'Love Is in the Air', 'Heaven Can Wait', 'Klara and the Sun', 'Wuthering Heights', 'Control', 'Thelma', 'A Million Little Pieces', 'Army of One', 'The Painted Veil', 'Dark Crimes', 'Casanova', 'Jackpot!', 'More Dead Than Alive', 'Baradaran-e Leila', 'Z for Zachariah', 'Stalag 17', 'Basquiat', 'Breakthrough', 'OMG 2', 'Melancholie der Engel', 'The Keyhole', 'Lost River', 'Get Carter', 'School Dance', 'I Still Believe', 'Night of the Living Dead', 'Gringo', 'La Vie En Rose', 'Screamers', 'The Little Vampire', 'Angst', 'Better Than Chocolate', \"Jodorowsky's Dune\", 'American Woman', 'My Days of Mercy', 'Rabid', 'Looker', 'Eddie and the Cruisers', 'Biutiful', 'Baby Boom', 'Like Crazy', 'Kyss mig', 'Airborne', 'Gods and Generals', 'The Turning', 'Jigsaw', 'Gone', 'Then Came You', 'Roxanne', 'Six Pack', 'Sick Girl', 'The Lords of Flatbush', 'Nowhereland', 'The Queen', 'Dance, Fools, Dance', \"A Hard Day's Night\", 'Mavka: Lisova pisnya', 'Death at a Funeral', 'Bis ans Ende der Welt', 'Kal Ho Naa Ho', 'The Quiet Earth', 'Ôkami kodomo no Ame to Yuki', 'The Prisoner of Zenda', 'Curve', 'Taken from Rio Bravo', 'Swimfan', 'Machine Gun Preacher', 'Sugar Mountain', 'The Keep', 'Un long dimanche de fiançailles', 'The Kid', 'Siksa Neraka', 'Can You Keep a Secret?', 'Chevalier', '892', 'Save Me', 'La minorenne', 'Maya', 'Last Exit to Brooklyn', 'Priceless', 'Ba wang bie ji', 'P2', 'The Black Stallion', 'Joe Versus the Volcano', 'Extremely Loud & Incredibly Close', 'You Belong to Me', 'In the Blood', 'Testament of Youth', 'Analyze That', 'Poetic Justice', 'Aporia', 'Stella: A Life', 'Reversal of Fortune', 'The Lost Husband', 'Wagons East!', 'Rye Lane', 'The Two Jakes', 'Babe: Pig in the City', 'Trick', 'Diary of a Mad Black Woman', 'Chasing Liberty', 'Star 80', 'Return to Paradise', 'The Adventures of Bob & Doug McKenzie: Strange Brew', 'Two for the Money', 'Roar', 'Shut In', 'The Good Neighbor', 'Baby Ruby', 'Walk of Shame', 'The Legend of Bagger Vance', 'Performance', 'The Hammer', 'The Seeding', 'Brooklyn Orchid', 'The Last Front', 'Out Cold', 'On the Beach', 'The Boy Who Could Fly', 'Victoria', 'An Affair to Remember', 'Alex Rider: Operation Stormbreaker', 'You Can Count on Me', 'Overcomer', 'Wonder Boys', 'The Sea of Trees', 'The Sacrament', 'The Glass House', \"I'm Not Ashamed\", 'Dead Heat', 'The Veil', 'Swan Song', 'Peter Rabbit 2: The Runaway', 'Yannick', 'Bright Star', 'Jaula', 'The Boss', 'The Laundromat', 'Madea Goes to Jail', 'Black Sheep', 'Chosen Family', 'Madame Claude', 'Freier Fall', 'The Eye', 'Faraway', 'Valentino', 'Dreamer: Inspired by a True Story', 'Mississippi Masala', 'Romance & Cigarettes', 'Neru', 'Spanking the Monkey', 'My Girl 2', 'Once Bitten', 'Anomalisa', 'Pensati sexy', 'Un beau matin', 'The Gauntlet', 'Fatherhood', 'Tequila Sunrise', 'Sarfarosh', 'The One I Love', \"La passion de Jeanne d'Arc\", 'The Iron Lady', 'How to Lose Friends & Alienate People', \"Nim's Island\", 'Les yeux sans visage', 'The Hungover Games', '88 Minutes', 'De Sade 70', 'Tayuan', 'The Rocker', 'The Man from Snowy River', 'Slingshot', 'Night of the Demons', 'La mala educación', 'Pacific Heights', 'Vanity Fair', 'The Lunchbox', 'Mi mejor amigo', 'Little Wing', 'Happy Feet Two', 'Pet Sematary II', 'Radium Girls', 'Orange County', 'Book of Love', 'The Trouble with Harry', \"Prisoner's Daughter\", 'Oh. What. Fun.', 'Lover', 'The Stranger in Our Bed', 'North to Alaska', 'How Do You Know', 'The War with Grandpa', 'Rabbit Hole', 'Exotica', 'Destination Wedding', 'Love and Leashes', 'Polaroid', 'Coming Home', \"Jayne Mansfield's Car\", 'Bullets Over Broadway', 'Vortex', 'The Mighty', 'In Her Shoes', 'For Keeps?', \"Ryan's Daughter\", 'Heart and Souls', 'Murder at Yellowstone City', 'Broken', 'Angus', 'The Storied Life of A.J. Fikry', 'The Broken Circle Breakdown', 'Crazy/Beautiful', 'Freejack', 'The Boondock Saints II: All Saints Day', 'Joram', 'Out of Darkness', 'Prom Night', 'The Man Who Laughs', 'Boomerang', 'The End of the Affair', 'The Robe', 'White Bird in a Blizzard', 'Puppylove', 'The Goodbye Girl', 'Blindness', 'The Last Bus', 'Birthright Outlaw', 'Random Hearts', 'Immortal Beloved', 'Rising Sun', 'Message in a Bottle', 'Brokedown Palace', 'Heartburn', 'Paranormal Activity: Next of Kin', 'Tereddüt Çizgisi', 'Manyeo', 'Me and You and Everyone We Know', 'Kiss Me Deadly', 'Athena', 'Leviafan', 'Forever Young', 'Juna Furniture', 'Le scaphandre et le papillon', 'Naissance des pieuvres', 'Touchback', 'Little Buddha', 'Planes: Fire & Rescue', 'I Saw the Light', 'Touch', 'Rurôni Kenshin: Meiji kenkaku roman tan', 'Crater', 'Inferno', 'Caveat', 'Honeymoon', 'The Bad Guys 2', 'Necessary Roughness', 'An Unfinished Life', 'They Called Him Mostly Harmless', 'The Offering', 'La sorella di Ursula', 'Tillsammans', \"Beethoven's 2nd\", 'Drift', 'The Weather Man', \"World's Greatest Dad\", 'Vacation Friends 2', 'Fortress', 'Memento', 'My Sailor, My Love', 'Marooned', 'Bucky F*cking Dent', 'One for the Money', 'La nuit du 12', 'Rebel', 'Possessed', 'Lonely Are the Brave', 'Les triplettes de Belleville', 'Shine', 'The Heartbreak Kid', 'The Song of Names', 'The Young Lions', 'Okuribito', 'Easy Money', 'Rogue', 'Henry VIII and His Six Wives', 'Les choristes', 'Eenie Meanie', 'Fixed', 'A Guide to Recognizing Your Saints', 'Sappho', 'Nixon', 'The Nightingale', 'Love in the Villa', 'The Odd Couple', 'Dirty Love', 'Je verrai toujours vos visages', 'Lifeboat', 'Sátántangó', 'Sex Ed', 'The Devil and Daniel Webster', 'The Scarlet Letter', 'The Rain People', 'Against the Ice', 'Ashes in the Snow', 'Uncommon Valor', 'Rabbit-Proof Fence', 'American Outlaws', 'Heart of Champions', 'French Exit', 'The Odd Life of Timothy Green', 'Viskningar och rop', 'Pigen med nålen', \"Mr. Magorium's Wonder Emporium\", 'The Comeback Trail', 'La casa', 'Pauline à la plage', 'Le paradis', 'Beautiful Kate', 'Jailer', 'The Last Exorcism', 'Chhichhore', 'Escape Plan 2: Hades', 'The Condemned', 'The Joneses', 'Unsinkable', 'A Simple Twist of Fate', 'Butchers', 'Dongnesaramdeul', 'Apollo 18', 'Rosebushpruning', 'Titus', 'Hævnen', 'La stanza del vescovo', 'Don Verdean', 'The Chronology of Water', 'Beasts of the Southern Wild', \"L'uomo che disegnò Dio\", 'London Boulevard', \"À l'aventure\", 'The Jane Austen Book Club', 'The Broken Hearts Club: A Romantic Comedy', 'Così come sei', 'Fucking Åmål', 'La chiave', 'Nicholas and Alexandra', 'Beverly Hills Chihuahua', 'Hardcore Never Dies', 'Penguin Bloom', 'Turistas', 'Jab We Met', 'Tin & Tina', 'Some Nudity Required', 'Butterfly on a Wheel', \"Ta'm e guilass\", 'Aftermath', \"Benny's Video\", 'Her Smell', 'Villains Inc', 'Cerrar los ojos', 'The Comancheros', 'Tall in the Saddle', 'Starship Troopers: Invasion', 'Are You Here', 'Miss March', 'Agak Laen', 'Dead Again', 'Suze', 'Mammal', 'All of Me', 'Bad Director', 'Le meraviglie', 'Ghahreman', 'Curly Sue', 'Shadow of the Vampire', 'Pandemonium', \"Murphy's Romance\", 'Mitt liv som hund', 'Blue Hawaii', 'In Hell', 'The Emerald Forest', 'Pamasahe', 'Dog Gone', 'Revenge of the Nerds II: Nerds in Paradise', \"L'eclisse\", 'Amateur Night', 'Querelle', 'Attenberg', 'Girl on the Third Floor', 'Wizards!', 'Twee vorstinnen en een vorst', 'Celebrity', 'Ice Cream Man', 'Daddy Daughter Trip', 'I Kill Giants', 'North', 'Open Water 2: Adrift', 'A Map of the World', 'The Dirty South', \"Devil's Due\", 'La seconda moglie', 'American Murder: The Family Next Door', \"Devil's Peak\", 'The Magnificent Ambersons', 'Jungfrukällan', 'Bastard Out of Carolina', 'Hours', 'I Love You to Death', 'The Woodsman', 'The Railway Children', 'Moh', 'Paradise Hills', 'The Discovery', 'Romeo & Juliet', 'Country Strong', 'Destroyer', 'Marfa Girl', '777 Charlie', \"The Razor's Edge\", 'Solarbabies', 'The Fan', 'Ready to Rumble', 'Chithha', 'American Flyers', 'All the Pretty Horses', 'Hounds of Love', 'Trick or Treat', 'The Day of the Locust', 'Get a Job', 'See No Evil', 'Rampart', 'Riding in Cars with Boys', 'Funny Farm', 'Legion of Super-Heroes', \"Maggie's Plan\", 'La marge', 'Gadar 2', 'Gandahar', 'Ladies in Black', 'Nights in Rodanthe', 'The Rookie', 'Auntie Mame', 'The Babysitter', 'Miracle Beach', 'Proof of Life', 'The Beaver', 'Chennai Express', 'Spider', 'The Adults', 'A Madea Homecoming', 'Above the Rim', 'Selling Isobel', 'Uproar', 'Luftslottet som sprängdes', 'Reunion', 'Raise Your Voice', 'How to Be a Latin Lover', 'Moving', 'Raise the Titanic', 'Ying hung boon sik', 'Skinwalkers', 'Seksmisja', \"Losin' It\", 'The Heavenly Kid', 'The Ballad of Jack and Rose', 'Affliction', 'Bod obnovy', 'Poolhall Junkies', 'Bloody Hell', 'Red Rock West', 'The Hunchback of Notre Dame', 'The Hollars', 'Mrs Palfrey at the Claremont', 'Dip huet seung hung', 'Brother', 'Spermworld', 'Jolene', 'La plus précieuse des marchandises', 'Dead End', 'The Limehouse Golem', 'The Thief and the Cobbler', 'Palm Trees and Power Lines', \"Largo Winch: Le prix de l'argent\", 'A Love Song for Bobby Long', 'An American in Paris', 'Quartet', 'Dragonfly', 'A Fall from Grace', 'Hwaryeonhan oechul', 'Dil Bechara', \"L'avventura\", 'Sam & Kate', 'The Falcon and the Snowman', 'Dragnet', 'Peaceful Warrior', 'Raymond & Ray', 'The Education of Sonny Carson', 'The Angry Hills', 'Downfalls High', 'Appendage', 'Jigeum mannareo gabmida', 'Late Night', 'The Murder of Nicole Brown Simpson', 'Grand Prix', 'Sam Whiskey', 'Zone 414', '(My) Truth: The Rape of Two Coreys', 'The Crazies', 'Six Triple Eight', 'Fabian oder Der Gang vor die Hunde', 'A Week in Paradise', 'Sangue per Dracula', 'Heaven Knows What', 'An Unmarried Woman', 'Cabin Fever', 'Radio Flyer', 'Rosencrantz & Guildenstern Are Dead', 'Let It Ride', 'Think Like a Man Too', 'Back Roads', 'Truly Madly Deeply', 'The Listener', 'Deadly Friend', 'Casual Sex?', 'The Object of My Affection', 'Regarding Henry', 'Loving Annabelle', 'I Used to Be Funny', 'Alpeis', 'Horizon Line', 'Dag II', \"Everybody's Fine\", 'Mondays: Kono taimurupu, look joshi ni kidzuka senai to owaranai', 'Noruwei no mori', 'Little Thirteen', 'Les innocentes', 'Scarlet Diva', 'A Hologram for the King', \"The Devil's Double\", 'Little Man Tate', 'Lonesome', 'My Blueberry Nights', 'Les héroïnes du mal', 'The Immigrant', 'The Replacement Killers', 'South Central', 'Un homme et une femme', 'Father of the Bride Part II', 'Leaving Las Vegas', 'It Takes Two', 'Restoration', 'Pocahontas', 'Taxi Driver', 'First Knight', 'The Net', 'Nine Months', 'Hideaway', 'Little Women', 'Legends of the Fall', \"Nobody's Fool\", 'Priest', 'Speed', 'Wolf', 'Bad Company', 'Boxing Helena', 'True Romance', 'The Escort', 'Beauty and the Beast', 'Pretty Woman', 'Homeward Bound II: Lost in San Francisco', 'The Pallbearer', 'All Dogs Go to Heaven 2', 'The Promise', 'Solo', \"She's the One\", 'Fled', 'Vertigo', 'Laura', 'To Be or Not to Be', 'Herbie Rides Again', 'Alice in Wonderland', 'Manon of the Spring', 'Brazil', 'Annie Hall', 'Stalker', 'M', 'Raise the Red Lantern', 'Ben-Hur', 'The Birds', 'Carrie', 'In Love and War', 'The Last of the Mohicans', 'Underworld', 'Anna Karenina', 'Volcano', 'Ripe', 'Buddy', \"She's So Lovely\", 'One Night Stand', 'Witness', 'Anastasia', 'As Good as It Gets', 'Twilight', 'Hush', 'The Man in the Iron Mask', 'Eden', 'Les Misérables', \"There's Something About Mary\", 'Wings', 'The Broadway Melody', 'The Best Years of Our Lives', 'The Little Mermaid', 'Sleeping Beauty', 'Dance with Me', 'Phoenix', 'Mr. & Mrs. Smith', 'Class', 'Hero', 'Rushmore', 'At First Sight', 'Howard the Duck', 'Gloria', 'Avalanche', 'Forces of Nature', 'The King and I', 'The Monster', 'The Velocity of Gary', 'Runaway Bride', 'The Morning After', 'Cobra', \"Gulliver's Travels\", 'Superstar', 'Brief Encounter', 'The Story of Us', 'Three to Tango', 'The Guardian', 'The Bachelor', 'Meatballs III: Summer Job', 'Scrooged', 'The Shop Around the Corner', 'The Bonfire of the Vanities', 'Magnolia', 'Brenda Starr', 'Down to You', 'The Bodyguard', 'Knockout', 'The Circus', 'City Lights', 'And God Created Woman', \"Who's That Girl\", 'Blind Date', 'Cool as Ice', 'Blood and Sand', 'High Fidelity', 'Solaris', 'Two Moon Junction', 'Whipped', 'Loser', 'Sleepwalkers', 'Sunshine', 'Butterfly', 'The Golden Bowl', 'Footloose', 'Autumn in New York', 'Bedazzled', 'Chocolat', 'The Gift', 'The Family Man', 'Annie', 'Mannequin', 'In the Mood for Love', 'Saving Silverman', 'Get Over It', \"Say It Isn't So\", 'The Circle', 'The Visit', 'Town & Country', 'Angel Eyes', 'Obsession', '18 Again!', 'Ariel', 'Arthur 2: On the Rocks', 'Cocktail', 'Fresh Horses', 'Dream a Little Dream', \"America's Sweethearts\", 'Jackpot', 'The Awakening', \"Captain Corelli's Mandolin\", 'Summer Catch', 'The Competition', 'Fiddler on the Roof', 'Shallow Hal', 'The Wash', 'Vanilla Sky', \"Monster's Ball\", 'The Last Man', 'Wild Strawberries', 'The Island', 'My Big Fat Greek Wedding', 'Life or Something Like It', 'The Hound of the Baskervilles', 'Juwanna Mann', 'Invincible', 'Secretary', 'Punch-Drunk Love', 'Going Ape!', 'Talk to Her', 'I Spit on Your Grave', 'Maid in Manhattan', 'Just Married', 'A Guy Thing', 'Breaking Up', 'Lockdown', 'Bend It Like Beckham', 'View from the Top', 'Chasing Papi', 'The Marrying Man', 'It Runs in the Family', 'The Main Event', 'Mr. Baseball', 'The Red Shoes', 'Commando', \"The Handmaid's Tale\", \"My Boss's Daughter\", 'Memoirs of an Invisible Man', 'Timeline', 'Nowhere to Run', 'Accident', 'Run', 'Darling', 'Honey', 'Big Fish', 'Cold Mountain', 'The Great Gatsby', 'The Butterfly Effect', 'The Dreamers', \"Hell's Kitchen\", 'Confessions of a Teenage Drama Queen', 'The Damned', 'The Chase', 'Eternal Sunshine of the Spotless Mind', \"The Slugger's Wife\", 'Anna', 'New York Minute', 'Midnight', 'Pride and Prejudice', 'The Secret Life of Walter Mitty', 'Spring, Summer, Fall, Winter... and Spring', 'City Limits', 'The Inheritance', 'The Swan', 'Shrek 2', 'Wish You Were Here', 'Moment by Moment', 'True Love', 'The Terminal', 'The Notebook', 'Taxi', 'Overboard', 'Thunderbirds', 'Double Trouble', 'Paparazzi', 'The Forgotten', 'House of Flying Daggers', 'The Phantom of the Opera', 'Camille', 'Torment', 'Deception', 'The Leech Woman', 'Sisters', 'Weeds', 'Wishful Thinking', \"Dead Man's Curve\", 'Taboo', 'Dil Chahta Hai', 'My Sassy Girl', 'Deadline', 'The Foreigner', 'Spanglish', '11:11', '3-Iron', 'Man Trouble', 'Hitch', 'Tart', 'Blue', 'Brothers', 'A Trip to the Moon', 'Monster-in-Law', 'The Uninvited', 'Daybreak', 'The Perfect Man', 'The Deal', 'Wedding Crashers', 'Black', 'The Key', 'Corpse Bride', 'Brokeback Mountain', 'Stay', 'Just Friends', 'Derailed', 'After Midnight', 'Yesterday', 'The Wind', 'Larry the Cable Guy: Health Inspector', 'Friends with Money', 'The Lake House', 'You, Me and Dupree', 'Stranger Than Fiction', 'Zoom', 'Material Girls', 'Lie with Me', 'Arizona', 'A Good Year', 'Another Gay Movie', 'Power', 'The Singer', 'The Secret', 'Blood and Chocolate', 'Unknown', 'I Think I Love My Wife', 'Love and Honor', 'Confetti', 'Kiss Me Again', 'Across the Universe', 'Underdog', 'Morning Glory', 'The Good Night', 'Atonement', 'Mr. Woodcock', 'Dan in Real Life', 'Lars and the Real Girl', 'Enchanted', 'Cake', 'The Perfect Holiday', '27 Dresses', 'LOL', 'Over Her Dead Body', 'Definitely, Maybe', 'Doomsday', '21', 'Baby Mama', 'Iron Man', 'Made of Honor', 'What Happens in Vegas', 'Meet Dave', 'A Moment to Remember', 'Let the Right One In', 'Sunflower', 'Ghost Town', 'The Duchess', 'Quarantine', 'Slumdog Millionaire', 'Four Christmases', 'The Lovers', 'The Reader', 'The Wrecking Crew', 'Love', 'Bedtime Stories', 'Blackout', 'Bride Wars', 'Chocolate', 'The Bandit', 'Playing for Keeps', 'Submerged', 'After Sex', 'Confessions of a Shopaholic', 'Mammoth', 'Rhinoceros', 'New in Town', 'The Proposal', 'Home', 'Ghosts of Girlfriends Past', '7th Heaven', 'Adam', 'Gigantic', \"The Time Traveler's Wife\", 'My Life in Ruins', 'The Secret in Their Eyes', 'Thirst', 'Love Happens', 'Angel', 'Up in the Air', 'Forever', 'The Twilight Saga: New Moon', 'Did You Hear About the Morgans?', 'Youth in Revolt', 'Leap Year', 'Bart Got a Room', 'I Love You Phillip Morris', 'The Room', 'Our Family Wedding', 'Hum Tumhare Hain Sanam', 'The Last Song', 'Killers', 'Sex and the City 2', 'Betrayal', 'The Knot', 'The Twilight Saga: Eclipse', 'The Kids Are All Right', 'The Silver Chalice', 'Heartless', 'The Switch', 'Machete', 'Homecoming', 'Long Weekend', 'Monsters', 'Never Let Me Go', 'Hereafter', 'Deep End', 'The Next Three Days', 'You and I', 'Love & Other Drugs', 'Nightfall', 'Little Fockers', 'Monte Carlo', 'No Strings Attached', 'From Prada to Nada', 'At Long Last Love', 'The Adjustment Bureau', 'Just Go with It', 'Red Riding Hood', 'Beyond', 'Melancholia', 'Bad Teacher', 'Why Did I Get Married Too?', 'Your Highness', 'Phantom', 'Exposed', 'Alpha and Omega', 'Happy New Year', 'Another Earth', 'Stay Cool', 'Ceremony', 'No Rest for the Wicked', 'Exit', 'American Son', 'In the Land of Blood and Honey', 'Sacrifice', 'Silence', 'The Five-Year Engagement', 'The Dictator', 'The Pact', 'Desi Boyz', 'Wanderlust', 'Moonrise Kingdom', 'Proteus', 'Rock of Ages', 'Love, Wedding, Marriage', 'ATM', 'The Words', 'Hotel Transylvania', 'Silver Linings Playbook', 'Peace, Love & Misunderstanding', 'The Eleventh Hour', 'Fire with Fire', 'Save the Date', 'This Is 40', 'Silent Night', 'Addicted', 'The Crossing', 'A Night in Heaven', 'The Big Wedding', 'The Neighbor', 'American Idiots', 'The Best Offer', 'Adam and Eve', 'The Heat', 'Passion', 'The Lifeguard', 'Baby on Board', 'Paranoia', 'Evidence', 'About Time', 'Truth or Dare', 'Too Hot to Handle', 'A Teacher', 'Barricade', 'I Will Follow You Into the Dark', 'Just Wright', 'You May Not Kiss the Bride', 'The Cosmonaut', 'The Outsider', 'Diana', 'Manhunt', 'Between Us', 'Date and Switch', 'Jailbait', 'That Awkward Moment', 'Today', 'Survival Island', 'The Girl from the Naked Eye', 'Sparks', 'Pompeii', 'Maleficent', 'Bad Boy', 'Tammy', 'And So It Goes', 'Sex Tape', 'The Captive', 'Love, Rosie', 'Anatomy of a Love Seen', 'Mohawk', 'Free Fall', 'Serena', 'Hit by Lightning', 'Almost Married', 'Little Italy', 'Pigs', 'Heatstroke', 'Let It Snow', 'Fishtales', 'Santos', 'Swinging with the Finkels', 'Time Freak', 'Stay Away, Joe', 'Inside Out', 'Malicious', 'Popstar', 'Last Rites', 'The Beast of Hollow Mountain', 'Brooklyn', 'Me and Earl and the Dying Girl', 'Results', 'The Last Five Years', 'Crimson Peak', 'Zero', 'Unfinished Business', \"Ghosts Can't Do It\", 'Echoes', 'Parts Per Billion', 'Outcast', 'The Sinner', 'Emmanuelle 3', 'The Lobster', 'Aloha', 'Autumn', 'Festival', 'Dev.D', 'Private Number', 'Fascination', 'Five Bloody Graves', 'Accidental Love', 'Burying the Ex', 'Dark Mountain', 'Finding Fanny', 'The Guest House', 'Awaken', 'Women of the Prehistoric Planet', 'Room', 'Another World', 'The Comedian', '6 Years', 'Zid', \"Jenny's Wedding\", 'The Surface', 'June', 'The Perfect Guy', 'Octopus', 'Bloodsport: The Dark Kumite', 'Aflatoon', 'Hello Brother', 'Hum To Mohabbat Karega', 'Creed', 'Prince', 'Fateful Findings', 'Temptation', 'Pride and Prejudice and Zombies', 'Dilwale', 'Sleepless', 'Raavan', 'The Lesson', 'Cougar Hunting', 'Porno', 'Ride or Die', 'Albela', 'Anjaana Anjaani', 'Me Before You', 'The Perfect Match', 'Cannibal', 'Khushi', 'Taarzan: The Wonder Car', 'Naina', 'Gangster', 'Kisna: The Warrior Poet', 'Bodyguard', '1920: Evil Returns', 'Boss', 'The Last Summer', 'Heropanti', 'The Choice', 'Slightly Single in L.A.', '11/11/11', 'Mike and Dave Need Wedding Dates', 'Kismat Konnection', 'War Dogs', 'Bimboland', 'The Seamstress', 'The Other Side', 'Housefull 3', 'Your Name.', 'Out of This World', 'Tees Maar Khan', 'Khiladi 786', 'Housefull', 'All Roads Lead to Rome', 'Allied', 'Frank & Lola', 'Kajraare', 'Split', 'The Crash', 'The Big Sick', 'Lavender', 'Come Together', 'The Other Half', 'Table 19', 'Eating Out', 'Eloise', 'Last Woman on Earth', 'Wild Roomies', 'The Girl in Lovers Lane', 'Colossus and the Headhunters', 'The Bad Batch', 'Hampstead']\n"
          ]
        }
      ]
    }
  ]
}